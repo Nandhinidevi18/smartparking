{
 "cells": [
  {
   "cell_type": "code",
   "execution_count": null,
   "id": "ad7ce893",
   "metadata": {},
   "outputs": [],
   "source": [
    "from kivy.app \n",
    "import App \n",
    "from kivy.uix.boxlayout \n",
    "import BoxLayout\n",
    "from kivy.uix.label\n",
    "import Label \n",
    "from kivy.uix.button \n",
    "import Button  \n",
    "class SmartParkingApp(App):     \n",
    "    def build(self): \n",
    "        layout = BoxLayout(orientation='vertical') \n",
    "        # Create labels and buttons for different functionalities        \n",
    "        label1 = Label(text=\"Welcome to Smart Parking\")         \n",
    "        label2 = Label(text=\"Available Parking Spots: 10\")         \n",
    "        reserve_button =Button(text=\"Reserve a Spot\")         \n",
    "        payment_button = Button(text=\"Make a Payment\") \n",
    " \n",
    "        # Bind functions to buttons \n",
    "    reserve_button.bind(on_release=self.reserve_spot)        \n",
    "    payment_button.bind(on_release=self.make_payment)        \n",
    "    layout.add_widget(label1)        \n",
    "    layout.add_widget(label2)         \n",
    "    layout.add_widget(reserve_button)         \n",
    "    layout.add_widget(payment_button)\n",
    "    return layout \n",
    " \n",
    "    def reserve_spot(self, instance): \n",
    "        # Implement reservation logic here        \n",
    "        print(\"Reserving a parking spot...\") \n",
    "        def make_payment(self, instance):        \n",
    "            # Implement payment logic here       \n",
    "            print(\"Making a payment...\") \n",
    "            \n",
    "\n",
    " \n"
   ]
  }
 ],
 "metadata": {
  "kernelspec": {
   "display_name": "Python 3 (ipykernel)",
   "language": "python",
   "name": "python3"
  },
  "language_info": {
   "codemirror_mode": {
    "name": "ipython",
    "version": 3
   },
   "file_extension": ".py",
   "mimetype": "text/x-python",
   "name": "python",
   "nbconvert_exporter": "python",
   "pygments_lexer": "ipython3",
   "version": "3.11.5"
  }
 },
 "nbformat": 4,
 "nbformat_minor": 5
}
